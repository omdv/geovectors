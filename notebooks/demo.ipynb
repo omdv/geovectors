{
 "cells": [
  {
   "cell_type": "code",
   "execution_count": 1,
   "metadata": {
    "ExecuteTime": {
     "end_time": "2020-01-07T03:06:42.013678Z",
     "start_time": "2020-01-07T03:06:41.797751Z"
    }
   },
   "outputs": [],
   "source": [
    "import numpy as np\n",
    "np.random.seed(42)"
   ]
  },
  {
   "cell_type": "code",
   "execution_count": 2,
   "metadata": {
    "ExecuteTime": {
     "end_time": "2020-01-07T03:06:42.063923Z",
     "start_time": "2020-01-07T03:06:42.015974Z"
    }
   },
   "outputs": [],
   "source": [
    "lats1 = np.random.uniform(-90,90,100000)\n",
    "lons1 = np.random.uniform(-180,180,100000)\n",
    "lats2 = np.random.uniform(-90,90,100000)\n",
    "lons2 = np.random.uniform(-180,180,100000)\n",
    "brgs = np.random.uniform(0,360,100000)\n",
    "dist = np.random.uniform(0,20e6,100000)"
   ]
  },
  {
   "cell_type": "markdown",
   "metadata": {},
   "source": [
    "## Direct method"
   ]
  },
  {
   "cell_type": "code",
   "execution_count": 3,
   "metadata": {
    "ExecuteTime": {
     "end_time": "2020-01-07T03:09:28.289622Z",
     "start_time": "2020-01-07T03:06:42.077009Z"
    }
   },
   "outputs": [
    {
     "name": "stdout",
     "output_type": "stream",
     "text": [
      "94.9 ms ± 25 ms per loop (mean ± std. dev. of 7 runs, 1 loop each)\n",
      "11 s ± 418 ms per loop (mean ± std. dev. of 7 runs, 1 loop each)\n",
      "9.79 s ± 1.4 s per loop (mean ± std. dev. of 7 runs, 1 loop each)\n"
     ]
    }
   ],
   "source": [
    "from geovectorslib import direct\n",
    "%timeit direct(lats1, lons1, brgs, dist)\n",
    "\n",
    "from geographiclib.geodesic import Geodesic\n",
    "geod = Geodesic.WGS84\n",
    "\n",
    "# geographiclib loop\n",
    "%timeit [geod.Direct(lats1[i], lons1[i], brgs[i], dist[i]) for i in range(len(lats1))]\n",
    "\n",
    "# geographiclib vectorized\n",
    "vDirect = np.vectorize(geod.Direct)\n",
    "%timeit vDirect(lats1, lons1, brgs, dist)"
   ]
  },
  {
   "cell_type": "code",
   "execution_count": 4,
   "metadata": {
    "ExecuteTime": {
     "end_time": "2020-01-07T03:09:28.344102Z",
     "start_time": "2020-01-07T03:09:28.294653Z"
    }
   },
   "outputs": [],
   "source": [
    "# Comparison\n",
    "routes1 = direct(lats1[:100], lons1[:100], brgs[:100], dist[:100])\n",
    "routes2 = vDirect(lats1[:100], lons1[:100], brgs[:100], dist[:100])\n",
    "\n",
    "np.testing.assert_array_almost_equal(routes1['lat2'], [r['lat2'] for r in routes2])"
   ]
  },
  {
   "cell_type": "markdown",
   "metadata": {},
   "source": [
    "## Inverse method"
   ]
  },
  {
   "cell_type": "code",
   "execution_count": 5,
   "metadata": {
    "ExecuteTime": {
     "end_time": "2020-01-07T03:17:19.407990Z",
     "start_time": "2020-01-07T03:09:28.345965Z"
    }
   },
   "outputs": [
    {
     "name": "stdout",
     "output_type": "stream",
     "text": [
      "1.5 s ± 504 ms per loop (mean ± std. dev. of 7 runs, 1 loop each)\n",
      "32.3 s ± 4.67 s per loop (mean ± std. dev. of 7 runs, 1 loop each)\n",
      "24.2 s ± 3.91 s per loop (mean ± std. dev. of 7 runs, 1 loop each)\n"
     ]
    }
   ],
   "source": [
    "from geovectorslib import inverse\n",
    "%timeit inverse(lats1, lons1, lats2, lons2)\n",
    "\n",
    "from geographiclib.geodesic import Geodesic\n",
    "geod = Geodesic.WGS84\n",
    "\n",
    "# geographiclib loop\n",
    "%timeit [geod.Inverse(lats1[i], lons1[i], lats2[i], lons2[i]) for i in range(len(lats1))]\n",
    "\n",
    "# geographiclib vectorized\n",
    "vInverse = np.vectorize(geod.Inverse)\n",
    "%timeit vInverse(lats1, lons1, lats2, lons2)"
   ]
  },
  {
   "cell_type": "code",
   "execution_count": 6,
   "metadata": {
    "ExecuteTime": {
     "end_time": "2020-01-07T03:17:19.588831Z",
     "start_time": "2020-01-07T03:17:19.418167Z"
    }
   },
   "outputs": [],
   "source": [
    "# Comparison\n",
    "routes1 = inverse(lats1[:100], lons1[:100], lats2[:100], lons2[:100])\n",
    "routes2 = vInverse(lats1[:100], lons1[:100], lats2[:100], lons2[:100])\n",
    "\n",
    "np.testing.assert_array_almost_equal(routes1['s12'], [r['s12'] for r in routes2], decimal=4)"
   ]
  }
 ],
 "metadata": {
  "kernelspec": {
   "display_name": "Python 3",
   "language": "python",
   "name": "python3"
  },
  "language_info": {
   "codemirror_mode": {
    "name": "ipython",
    "version": 3
   },
   "file_extension": ".py",
   "mimetype": "text/x-python",
   "name": "python",
   "nbconvert_exporter": "python",
   "pygments_lexer": "ipython3",
   "version": "3.7.4"
  },
  "varInspector": {
   "cols": {
    "lenName": 16,
    "lenType": 16,
    "lenVar": 40
   },
   "kernels_config": {
    "python": {
     "delete_cmd_postfix": "",
     "delete_cmd_prefix": "del ",
     "library": "var_list.py",
     "varRefreshCmd": "print(var_dic_list())"
    },
    "r": {
     "delete_cmd_postfix": ") ",
     "delete_cmd_prefix": "rm(",
     "library": "var_list.r",
     "varRefreshCmd": "cat(var_dic_list()) "
    }
   },
   "types_to_exclude": [
    "module",
    "function",
    "builtin_function_or_method",
    "instance",
    "_Feature"
   ],
   "window_display": false
  }
 },
 "nbformat": 4,
 "nbformat_minor": 2
}
